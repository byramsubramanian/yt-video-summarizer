{
 "cells": [
  {
   "cell_type": "code",
   "execution_count": 3,
   "id": "5795c47e-bbd8-45b6-9ee0-a43e2591582a",
   "metadata": {},
   "outputs": [
    {
     "name": "stdout",
     "output_type": "stream",
     "text": [
      "Collecting youtube-transcript-api\n",
      "  Using cached youtube_transcript_api-0.6.2-py3-none-any.whl (24 kB)\n",
      "Collecting requests\n",
      "  Using cached requests-2.31.0-py3-none-any.whl (62 kB)\n",
      "Collecting certifi>=2017.4.17\n",
      "  Using cached certifi-2024.2.2-py3-none-any.whl (163 kB)\n",
      "Collecting urllib3<3,>=1.21.1\n",
      "  Using cached urllib3-2.2.1-py3-none-any.whl (121 kB)\n",
      "Collecting charset-normalizer<4,>=2\n",
      "  Using cached charset_normalizer-3.3.2-cp310-cp310-manylinux_2_17_x86_64.manylinux2014_x86_64.whl (142 kB)\n",
      "Collecting idna<4,>=2.5\n",
      "  Using cached idna-3.6-py3-none-any.whl (61 kB)\n",
      "Installing collected packages: urllib3, idna, charset-normalizer, certifi, requests, youtube-transcript-api\n",
      "Successfully installed certifi-2024.2.2 charset-normalizer-3.3.2 idna-3.6 requests-2.31.0 urllib3-2.2.1 youtube-transcript-api-0.6.2\n"
     ]
    }
   ],
   "source": [
    "!pip install youtube-transcript-api"
   ]
  },
  {
   "cell_type": "code",
   "execution_count": 3,
   "id": "11a43087-47ef-47d1-aeaf-5a04673da874",
   "metadata": {},
   "outputs": [
    {
     "name": "stdout",
     "output_type": "stream",
     "text": [
      "[{'text': 'Isn’t it odd that, when something’s funny,', 'start': 7.336, 'duration': 2.67}, {'text': 'you might show your teeth,\\nchange your breathing,', 'start': 10.006, 'duration': 3.17}, {'text': 'become weak and achy in some places,\\nand maybe even cry?', 'start': 13.176, 'duration': 4.379}, {'text': 'In other words, why do we do\\nthis bizarre thing that is laughter?', 'start': 18.264, 'duration': 5.047}, {'text': 'When you laugh, your abdominal muscles\\ncontract rapidly.', 'start': 24.52, 'duration': 3.921}, {'text': 'This alters your breathing patterns,', 'start': 28.566, 'duration': 1.835}, {'text': 'increasing the pressure in your\\nchest cavity, and pushing air out,', 'start': 30.401, 'duration': 4.088}, {'text': 'which might audibly emerge as a snort,\\nwheeze, or vocalization.', 'start': 34.489, 'duration': 4.796}, {'text': 'Because you’re exerting your abdominal\\nmuscles much more', 'start': 40.161, 'duration': 2.878}, {'text': 'than you usually would while talking,', 'start': 43.039, 'duration': 2.21}, {'text': 'they may start to hurt.', 'start': 45.249, 'duration': 1.627}, {'text': 'Laughter also inhibits your reflexes\\nand muscle control,', 'start': 47.335, 'duration': 3.879}, {'text': 'causing sensations like leg weakness.', 'start': 51.214, 'duration': 2.836}, {'text': 'So, where does this funny phenomenon\\ncome from?', 'start': 54.425, 'duration': 3.128}, {'text': 'Because there’s no archaeological\\nrecord of laughter,', 'start': 58.638, 'duration': 3.17}, {'text': 'it’s impossible to say exactly how and why\\nit evolved,', 'start': 61.808, 'duration': 4.421}, {'text': 'but scientists have some theories.', 'start': 66.229, 'duration': 2.544}, {'text': 'Importantly, humans are not\\nthe only animals today', 'start': 68.898, 'duration': 4.296}, {'text': 'that do something like laughter.', 'start': 73.194, 'duration': 2.002}, {'text': 'Using ultrasonic recorders,', 'start': 75.613, 'duration': 2.211}, {'text': 'researchers in the late 90s realized\\nthat rats were basically giggling', 'start': 77.907, 'duration': 5.756}, {'text': 'while being tickled.', 'start': 83.663, 'duration': 1.418}, {'text': 'Scientists have since compiled evidence\\nof at least 65 species—', 'start': 85.456, 'duration': 5.464}, {'text': 'mostly mammals, but also some birds—\\nthat vocalize during social play.', 'start': 91.045, 'duration': 5.506}, {'text': 'Some, unsurprisingly,\\nare our closest relatives.', 'start': 96.759, 'duration': 3.879}, {'text': 'By recording and analyzing the sounds\\nprimates make', 'start': 101.139, 'duration': 3.086}, {'text': 'while playing and being tickled,', 'start': 104.225, 'duration': 1.96}, {'text': 'researchers grew more convinced that\\nthe ancient ancestor of all great apes', 'start': 106.185, 'duration': 4.672}, {'text': 'did something like laughter.', 'start': 110.857, 'duration': 1.876}, {'text': 'And, because other apes make laughter-like\\nsounds during rough-and-tumble play,', 'start': 112.733, 'duration': 4.672}, {'text': 'they think laughter may have originally\\ndeveloped to clearly signal', 'start': 117.53, 'duration': 4.254}, {'text': 'friendly, non-aggressive intent.', 'start': 121.784, 'duration': 2.544}, {'text': 'But of course, humans don’t just laugh\\nwhen we’re wrestling,', 'start': 124.954, 'duration': 4.838}, {'text': 'but also when we’re amused,\\nand even surprised, confused, or nervous.', 'start': 130.126, 'duration': 5.964}, {'text': 'Some scientists think laughter took\\non expanded functions', 'start': 136.34, 'duration': 3.671}, {'text': 'after humans split from other great apes', 'start': 140.011, 'duration': 2.46}, {'text': 'and developed large social groups\\nand more complex language abilities.', 'start': 142.471, 'duration': 4.255}, {'text': 'They hypothesize that laughter gradually\\nbecame something we could use', 'start': 147.018, 'duration': 3.753}, {'text': 'not just during play but within speech\\nto convey subtle meanings', 'start': 150.771, 'duration': 4.964}, {'text': 'and a range of contexts\\nto show our emotions.', 'start': 155.735, 'duration': 3.92}, {'text': 'This is thought to be one of the reasons\\nthat laughter is contagious:', 'start': 161.032, 'duration': 4.254}, {'text': 'it’s like an invitation to share\\nin someone’s emotional state.', 'start': 165.286, 'duration': 3.879}, {'text': 'Just hearing clips of laughter can\\nactivate key regions in your brain,', 'start': 169.582, 'duration': 4.963}, {'text': 'triggering you to smile or laugh yourself.', 'start': 174.67, 'duration': 3.045}, {'text': 'And, when participants in one study\\nwatched a funny video,', 'start': 178.132, 'duration': 3.504}, {'text': 'they laughed significantly longer\\nand more often', 'start': 181.636, 'duration': 3.295}, {'text': 'when another person was present—', 'start': 184.931, 'duration': 1.793}, {'text': 'even though they reported feeling\\nthe same level of amusement.', 'start': 186.933, 'duration': 3.92}, {'text': 'Human laughter is also generally louder', 'start': 191.52, 'duration': 3.295}, {'text': 'than the play vocalizations\\nof most animals.', 'start': 194.815, 'duration': 3.045}, {'text': 'Some scientists speculate that this\\nis because our laughter functions', 'start': 198.194, 'duration': 4.463}, {'text': 'not only as a signal between individuals,\\nbut a broadcast to everyone around.', 'start': 202.657, 'duration': 6.131}, {'text': 'Studies found that observers across the\\nworld and as young as 5 months old', 'start': 209.372, 'duration': 5.755}, {'text': 'could reliably tell the difference\\nbetween close friends and acquaintances', 'start': 215.211, 'duration': 4.337}, {'text': 'just from brief clips of them laughing.', 'start': 219.715, 'duration': 2.962}, {'text': 'Similarly, we can tell whether a laugh\\nis real or fake based just on the sound.', 'start': 223.01, 'duration': 6.215}, {'text': 'Fake, or volitional, laughter is produced', 'start': 229.642, 'duration': 2.252}, {'text': 'in entirely different networks\\nin the brain,', 'start': 231.894, 'duration': 2.795}, {'text': 'relying on speech-like pathways.', 'start': 234.689, 'duration': 2.46}, {'text': 'Meanwhile, spontaneous laughter arises\\nfrom older networks', 'start': 237.275, 'duration': 5.046}, {'text': 'that other animals also use\\nfor their vocalizations.', 'start': 242.321, 'duration': 3.879}, {'text': 'And laughter is not just\\nsocially important;', 'start': 246.659, 'duration': 2.919}, {'text': 'it’s also thought to be good for us.', 'start': 249.704, 'duration': 2.502}, {'text': 'When we laugh, our brains release\\nfeel-good neurotransmitters', 'start': 252.373, 'duration': 4.046}, {'text': 'like endorphins,', 'start': 256.419, 'duration': 1.293}, {'text': 'and decrease levels of stress hormones\\nlike cortisol.', 'start': 257.712, 'duration': 3.837}, {'text': 'Some research even suggests that people\\nwho laugh more', 'start': 261.841, 'duration': 3.628}, {'text': 'can cope with stress more effectively\\nand have better cardiovascular health.', 'start': 265.469, 'duration': 4.797}, {'text': 'Laughter is a universal human behavior.', 'start': 271.434, 'duration': 3.086}, {'text': 'Babies can laugh before they can speak.', 'start': 274.854, 'duration': 2.669}, {'text': \"Whether it's the best medicine\\ndepends on your ailment.\", 'start': 277.857, 'duration': 3.712}, {'text': 'But as something that makes\\nlife more tolerable,', 'start': 281.694, 'duration': 2.669}, {'text': 'strengthens bonds, and potentially\\nimproves aspects of your health,', 'start': 284.363, 'duration': 4.588}, {'text': 'you can’t go wrong with a good laugh.', 'start': 289.16, 'duration': 2.46}, {'text': 'Unless you have a broken rib or something.', 'start': 292.079, 'duration': 2.503}, {'text': 'Then it’s no laughing matter.', 'start': 294.582, 'duration': 2.085}, {'text': 'Certainly nothing to crack up about.', 'start': 296.792, 'duration': 3.212}]\n"
     ]
    }
   ],
   "source": [
    "from youtube_transcript_api import YouTubeTranscriptApi\n",
    "\n",
    "YOUTUBE_VIDEO_ID = \"Xu-QfE_1ksk\" # The science of laughter - Sasha Winkler\n",
    "\n",
    "transcript = YouTubeTranscriptApi.get_transcript(YOUTUBE_VIDEO_ID)\n",
    "print(transcript)\n"
   ]
  },
  {
   "cell_type": "code",
   "execution_count": 4,
   "id": "efa6be7d-03c7-4c2e-9d09-c3f2c07001a8",
   "metadata": {},
   "outputs": [
    {
     "name": "stdout",
     "output_type": "stream",
     "text": [
      "Isn’t it odd that, when something’s funny,\n",
      "you might show your teeth,\n",
      "change your breathing,\n",
      "become weak and achy in some places,\n",
      "and maybe even cry?\n",
      "In other words, why do we do\n",
      "this bizarre thing that is laughter?\n",
      "When you laugh, your abdominal muscles\n",
      "contract rapidly.\n",
      "This alters your breathing patterns,\n",
      "increasing the pressure in your\n",
      "chest cavity, and pushing air out,\n",
      "which might audibly emerge as a snort,\n",
      "wheeze, or vocalization.\n",
      "Because you’re exerting your abdominal\n",
      "muscles much more\n",
      "than you usually would while talking,\n",
      "they may start to hurt.\n",
      "Laughter also inhibits your reflexes\n",
      "and muscle control,\n",
      "causing sensations like leg weakness.\n",
      "So, where does this funny phenomenon\n",
      "come from?\n",
      "Because there’s no archaeological\n",
      "record of laughter,\n",
      "it’s impossible to say exactly how and why\n",
      "it evolved,\n",
      "but scientists have some theories.\n",
      "Importantly, humans are not\n",
      "the only animals today\n",
      "that do something like laughter.\n",
      "Using ultrasonic recorders,\n",
      "researchers in the late 90s realized\n",
      "that rats were basically giggling\n",
      "while being tickled.\n",
      "Scientists have since compiled evidence\n",
      "of at least 65 species—\n",
      "mostly mammals, but also some birds—\n",
      "that vocalize during social play.\n",
      "Some, unsurprisingly,\n",
      "are our closest relatives.\n",
      "By recording and analyzing the sounds\n",
      "primates make\n",
      "while playing and being tickled,\n",
      "researchers grew more convinced that\n",
      "the ancient ancestor of all great apes\n",
      "did something like laughter.\n",
      "And, because other apes make laughter-like\n",
      "sounds during rough-and-tumble play,\n",
      "they think laughter may have originally\n",
      "developed to clearly signal\n",
      "friendly, non-aggressive intent.\n",
      "But of course, humans don’t just laugh\n",
      "when we’re wrestling,\n",
      "but also when we’re amused,\n",
      "and even surprised, confused, or nervous.\n",
      "Some scientists think laughter took\n",
      "on expanded functions\n",
      "after humans split from other great apes\n",
      "and developed large social groups\n",
      "and more complex language abilities.\n",
      "They hypothesize that laughter gradually\n",
      "became something we could use\n",
      "not just during play but within speech\n",
      "to convey subtle meanings\n",
      "and a range of contexts\n",
      "to show our emotions.\n",
      "This is thought to be one of the reasons\n",
      "that laughter is contagious:\n",
      "it’s like an invitation to share\n",
      "in someone’s emotional state.\n",
      "Just hearing clips of laughter can\n",
      "activate key regions in your brain,\n",
      "triggering you to smile or laugh yourself.\n",
      "And, when participants in one study\n",
      "watched a funny video,\n",
      "they laughed significantly longer\n",
      "and more often\n",
      "when another person was present—\n",
      "even though they reported feeling\n",
      "the same level of amusement.\n",
      "Human laughter is also generally louder\n",
      "than the play vocalizations\n",
      "of most animals.\n",
      "Some scientists speculate that this\n",
      "is because our laughter functions\n",
      "not only as a signal between individuals,\n",
      "but a broadcast to everyone around.\n",
      "Studies found that observers across the\n",
      "world and as young as 5 months old\n",
      "could reliably tell the difference\n",
      "between close friends and acquaintances\n",
      "just from brief clips of them laughing.\n",
      "Similarly, we can tell whether a laugh\n",
      "is real or fake based just on the sound.\n",
      "Fake, or volitional, laughter is produced\n",
      "in entirely different networks\n",
      "in the brain,\n",
      "relying on speech-like pathways.\n",
      "Meanwhile, spontaneous laughter arises\n",
      "from older networks\n",
      "that other animals also use\n",
      "for their vocalizations.\n",
      "And laughter is not just\n",
      "socially important;\n",
      "it’s also thought to be good for us.\n",
      "When we laugh, our brains release\n",
      "feel-good neurotransmitters\n",
      "like endorphins,\n",
      "and decrease levels of stress hormones\n",
      "like cortisol.\n",
      "Some research even suggests that people\n",
      "who laugh more\n",
      "can cope with stress more effectively\n",
      "and have better cardiovascular health.\n",
      "Laughter is a universal human behavior.\n",
      "Babies can laugh before they can speak.\n",
      "Whether it's the best medicine\n",
      "depends on your ailment.\n",
      "But as something that makes\n",
      "life more tolerable,\n",
      "strengthens bonds, and potentially\n",
      "improves aspects of your health,\n",
      "you can’t go wrong with a good laugh.\n",
      "Unless you have a broken rib or something.\n",
      "Then it’s no laughing matter.\n",
      "Certainly nothing to crack up about.\n"
     ]
    }
   ],
   "source": [
    "from youtube_transcript_api.formatters import TextFormatter\n",
    "\n",
    "formatter = TextFormatter()\n",
    "extracted_transcript_text = formatter.format_transcript(transcript)\n",
    "\n",
    "print(extracted_transcript_text)\n"
   ]
  },
  {
   "cell_type": "code",
   "execution_count": 5,
   "id": "a9de45ea-c276-421d-bf47-9b8debd9c116",
   "metadata": {},
   "outputs": [
    {
     "data": {
      "text/plain": [
       "4022"
      ]
     },
     "execution_count": 5,
     "metadata": {},
     "output_type": "execute_result"
    }
   ],
   "source": [
    "len(extracted_transcript_text)"
   ]
  },
  {
   "cell_type": "code",
   "execution_count": null,
   "id": "caa9d1c2-40f6-4e72-819f-5bbe8fae924f",
   "metadata": {},
   "outputs": [],
   "source": []
  }
 ],
 "metadata": {
  "kernelspec": {
   "display_name": "venv",
   "language": "python",
   "name": "venv"
  },
  "language_info": {
   "codemirror_mode": {
    "name": "ipython",
    "version": 3
   },
   "file_extension": ".py",
   "mimetype": "text/x-python",
   "name": "python",
   "nbconvert_exporter": "python",
   "pygments_lexer": "ipython3",
   "version": "3.10.12"
  }
 },
 "nbformat": 4,
 "nbformat_minor": 5
}
